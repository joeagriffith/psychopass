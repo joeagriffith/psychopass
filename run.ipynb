{
 "cells": [
  {
   "cell_type": "code",
   "execution_count": 1,
   "metadata": {},
   "outputs": [],
   "source": [
    "import numpy as np\n",
    "import pandas as pd\n",
    "import pyedflib\n",
    "import matplotlib.pyplot as plt\n",
    "import os\n",
    "from tqdm import tqdm\n",
    "\n",
    "from database import Database"
   ]
  },
  {
   "cell_type": "code",
   "execution_count": 2,
   "metadata": {},
   "outputs": [
    {
     "name": "stderr",
     "output_type": "stream",
     "text": [
      "100%|██████████| 2/2 [00:00<00:00, 15.46it/s]\n"
     ]
    }
   ],
   "source": [
    "root = \"data/\"\n",
    "# For each patient\n",
    "data = {}\n",
    "num_patients = 2 # Max is 109\n",
    "loop = tqdm(os.listdir(root)[:num_patients])\n",
    "for patient in loop:\n",
    "    # print(patient)\n",
    "    # For each recording\n",
    "    data[patient] = []\n",
    "    for recording in os.listdir(root + patient):\n",
    "        if recording.endswith(\".event\"):\n",
    "            continue\n",
    "        elif \"R03\" in recording:# or \"R07\" in recording or \"R11\" in recording:\n",
    "            with pyedflib.EdfReader(root + patient + \"/\" + recording) as edf_file:\n",
    "                # Number of signals in the file\n",
    "                n = edf_file.signals_in_file\n",
    "\n",
    "                # Names of the signals\n",
    "                signal_labels = edf_file.getSignalLabels()\n",
    "\n",
    "                # Preallocate a numpy array\n",
    "                signal = np.zeros((n, edf_file.getNSamples()[0]))\n",
    "\n",
    "                # Loop over each signal\n",
    "                for i in range(n):\n",
    "                    signal[i, :] = edf_file.readSignal(i)\n",
    "                data[patient].append(signal)\n",
    "    data[patient] = np.array(data[patient])\n",
    "    # lis = []\n",
    "    # for i in range(0, 20000, 640):\n",
    "    #     lis.append(data[patient][:, :, i:i+640])\n",
    "    # data[patient] = lis\n",
    "\n",
    "\n"
   ]
  },
  {
   "cell_type": "code",
   "execution_count": 3,
   "metadata": {},
   "outputs": [
    {
     "name": "stdout",
     "output_type": "stream",
     "text": [
      "(1, 64, 20000)\n",
      "(1, 64, 19680)\n"
     ]
    }
   ],
   "source": [
    "for patient in data.keys():\n",
    "    print(data[patient].shape)"
   ]
  },
  {
   "cell_type": "code",
   "execution_count": 4,
   "metadata": {},
   "outputs": [
    {
     "data": {
      "text/html": [
       "<div>\n",
       "<style scoped>\n",
       "    .dataframe tbody tr th:only-of-type {\n",
       "        vertical-align: middle;\n",
       "    }\n",
       "\n",
       "    .dataframe tbody tr th {\n",
       "        vertical-align: top;\n",
       "    }\n",
       "\n",
       "    .dataframe thead th {\n",
       "        text-align: right;\n",
       "    }\n",
       "</style>\n",
       "<table border=\"1\" class=\"dataframe\">\n",
       "  <thead>\n",
       "    <tr style=\"text-align: right;\">\n",
       "      <th></th>\n",
       "      <th>onset</th>\n",
       "      <th>anno</th>\n",
       "      <th>duration</th>\n",
       "    </tr>\n",
       "  </thead>\n",
       "  <tbody>\n",
       "    <tr>\n",
       "      <th>1</th>\n",
       "      <td>672</td>\n",
       "      <td>T2</td>\n",
       "      <td>656</td>\n",
       "    </tr>\n",
       "    <tr>\n",
       "      <th>7</th>\n",
       "      <td>4656</td>\n",
       "      <td>T2</td>\n",
       "      <td>656</td>\n",
       "    </tr>\n",
       "    <tr>\n",
       "      <th>9</th>\n",
       "      <td>5984</td>\n",
       "      <td>T2</td>\n",
       "      <td>656</td>\n",
       "    </tr>\n",
       "    <tr>\n",
       "      <th>15</th>\n",
       "      <td>9968</td>\n",
       "      <td>T2</td>\n",
       "      <td>656</td>\n",
       "    </tr>\n",
       "    <tr>\n",
       "      <th>19</th>\n",
       "      <td>12624</td>\n",
       "      <td>T2</td>\n",
       "      <td>656</td>\n",
       "    </tr>\n",
       "  </tbody>\n",
       "</table>\n",
       "</div>"
      ],
      "text/plain": [
       "    onset anno  duration\n",
       "1     672   T2       656\n",
       "7    4656   T2       656\n",
       "9    5984   T2       656\n",
       "15   9968   T2       656\n",
       "19  12624   T2       656"
      ]
     },
     "execution_count": 4,
     "metadata": {},
     "output_type": "execute_result"
    }
   ],
   "source": [
    "p1df = pd.read_excel(\"P103.xlsx\")\n",
    "p2df = pd.read_excel(\"P203.xlsx\")\n",
    "\n",
    "p1df['onset'] = (p1df['onset'].str.replace(' sec', '').str.replace(\"'\", '').astype(float) * 160.0).astype(int)\n",
    "p1df['duration'] = (p1df['duration'].str.replace(' sec', '').str.replace(\"'\", '').astype(float) * 160.0).astype(int)\n",
    "p1df = p1df[p1df['anno'] == 'T2']\n",
    "p2df['onset'] = (p2df['onset'].str.replace(' sec', '').str.replace(\"'\", '').astype(float) * 160.0).astype(int)\n",
    "p2df['duration'] = (p2df['duration'].str.replace(' sec', '').str.replace(\"'\", '').astype(float) * 160.0).astype(int)\n",
    "p2df = p2df[p2df['anno'] == 'T2']\n",
    "p1df.head()"
   ]
  },
  {
   "cell_type": "code",
   "execution_count": 5,
   "metadata": {},
   "outputs": [],
   "source": [
    "p1_seqs = []\n",
    "for row in p1df.iterrows():\n",
    "    onset = row[1]['onset']\n",
    "    duration = row[1]['duration']\n",
    "    p1_seqs.append(data['S001'][:, :, onset:onset+duration].squeeze(0)[:, :640])\n",
    "\n",
    "p2_seqs = []\n",
    "for row in p2df.iterrows():\n",
    "    onset = row[1]['onset']\n",
    "    duration = row[1]['duration']\n",
    "    p2_seqs.append(data['S002'][:, :, onset:onset+duration].squeeze(0)[:, :640])\n",
    "\n",
    "shape = (64, 640)\n",
    "for seq in p1_seqs + p2_seqs:\n",
    "    assert seq.shape == shape, seq.shape\n"
   ]
  },
  {
   "cell_type": "code",
   "execution_count": 6,
   "metadata": {},
   "outputs": [],
   "source": [
    "p1_ffts = [np.fft.fft(seq) for seq in p1_seqs]\n",
    "p1_ffts = [fft[:, :320] for fft in p1_ffts]\n",
    "\n",
    "p2_ffts = [np.fft.fft(seq) for seq in p2_seqs]\n",
    "p2_ffts = [fft[:, :320] for fft in p2_ffts]"
   ]
  },
  {
   "cell_type": "code",
   "execution_count": 7,
   "metadata": {},
   "outputs": [],
   "source": [
    "db = Database()\n",
    "db.add('S001', p1_ffts[:6])\n",
    "db.add('S002', p2_ffts[:6])\n"
   ]
  },
  {
   "cell_type": "code",
   "execution_count": 8,
   "metadata": {},
   "outputs": [
    {
     "name": "stdout",
     "output_type": "stream",
     "text": [
      "True False\n"
     ]
    }
   ],
   "source": [
    "print(db.verify('S001', p1_ffts[-1]), db.verify('S001', p2_ffts[-1]))"
   ]
  }
 ],
 "metadata": {
  "kernelspec": {
   "display_name": "Python 3",
   "language": "python",
   "name": "python3"
  },
  "language_info": {
   "codemirror_mode": {
    "name": "ipython",
    "version": 3
   },
   "file_extension": ".py",
   "mimetype": "text/x-python",
   "name": "python",
   "nbconvert_exporter": "python",
   "pygments_lexer": "ipython3",
   "version": "3.10.7"
  },
  "orig_nbformat": 4
 },
 "nbformat": 4,
 "nbformat_minor": 2
}
